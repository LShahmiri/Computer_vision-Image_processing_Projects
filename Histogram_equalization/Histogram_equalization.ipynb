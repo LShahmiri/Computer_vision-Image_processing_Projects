{
  "nbformat": 4,
  "nbformat_minor": 0,
  "metadata": {
    "colab": {
      "provenance": [],
      "authorship_tag": "ABX9TyM5Alm+Pyl7c+sqDQBmxr1r",
      "include_colab_link": true
    },
    "kernelspec": {
      "name": "python3",
      "display_name": "Python 3"
    },
    "language_info": {
      "name": "python"
    }
  },
  "cells": [
    {
      "cell_type": "markdown",
      "metadata": {
        "id": "view-in-github",
        "colab_type": "text"
      },
      "source": [
        "<a href=\"https://colab.research.google.com/github/LShahmiri/Computer_vision-Image_processing_Projects/blob/master/Histogram_equalization/Histogram_equalization.ipynb\" target=\"_parent\"><img src=\"https://colab.research.google.com/assets/colab-badge.svg\" alt=\"Open In Colab\"/></a>"
      ]
    },
    {
      "cell_type": "code",
      "execution_count": null,
      "metadata": {
        "id": "gJr1QytFLVpB"
      },
      "outputs": [],
      "source": [
        "import os\n",
        "import cv2\n",
        "import glob\n",
        "\n",
        "# Define a function for RGB histogram equalization\n",
        "def RGB_histogram_equalization(img):\n",
        "    # Convert the input image from BGR to YUV color space\n",
        "    img_yuv = cv2.cvtColor(img, cv2.COLOR_BGR2YUV)\n",
        "\n",
        "    # Perform histogram equalization on the Y channel\n",
        "    img_yuv[:,:,0] = cv2.equalizeHist(img_yuv[:,:,0])\n",
        "\n",
        "    # Convert the equalized YUV image back to the BGR color space\n",
        "    img_output = cv2.cvtColor(img_yuv, cv2.COLOR_YUV2BGR)\n",
        "\n",
        "    return img_output\n",
        "\n",
        "# Define the file path to the folder containing images of a specific plant species\n",
        "path = \"/content/drive/..../train/Ziziphus mauritiana/*.*\"\n",
        "\n",
        "# Initialize a counter variable to keep track of processed images\n",
        "img_number = 1\n",
        "\n",
        "# Iterate over each file in the specified path using glob\n",
        "for file in glob.glob(path):\n",
        "    # Read each image using OpenCV's imread function\n",
        "    img = cv2.imread(file)\n",
        "\n",
        "    # Apply histogram equalization to the image using the RGB_histogram_equalization function\n",
        "    equalized_img = RGB_histogram_equalization(img)\n",
        "\n",
        "    # Save the processed image to a new path under a folder named \"equalization\"\n",
        "    output_path = \"/content/....n/training/Ziziphus mauritiana/ \" + str(img_number) + \".jpg\"\n",
        "    cv2.imwrite(output_path, equalized_img)\n",
        "\n",
        "    # Increment the image number for the next iteration\n",
        "    img_number += 1\n",
        "\n",
        "    # Optionally, display each processed image for 1 second using cv2_imshow (commented out)\n",
        "    # cv2_imshow(equalized_img)\n",
        "    # cv2.waitKey(1000)\n",
        "\n",
        "# Clean up any remaining windows\n",
        "cv2.destroyAllWindows()\n"
      ]
    }
  ]
}