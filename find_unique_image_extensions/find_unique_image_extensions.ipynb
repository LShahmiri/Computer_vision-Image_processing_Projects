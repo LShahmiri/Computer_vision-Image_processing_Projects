{
  "nbformat": 4,
  "nbformat_minor": 0,
  "metadata": {
    "colab": {
      "provenance": [],
      "mount_file_id": "1LU79Ej3uoFz3aY1PgJFCK_kXmMIF9Krh",
      "authorship_tag": "ABX9TyMMcJKDtOlB5kb+g4ySK9Lp",
      "include_colab_link": true
    },
    "kernelspec": {
      "name": "python3",
      "display_name": "Python 3"
    },
    "language_info": {
      "name": "python"
    }
  },
  "cells": [
    {
      "cell_type": "markdown",
      "metadata": {
        "id": "view-in-github",
        "colab_type": "text"
      },
      "source": [
        "<a href=\"https://colab.research.google.com/github/LShahmiri/Computer_vision-Image_processing_Projects/blob/master/find_unique_image_extensions/find_unique_image_extensions.ipynb\" target=\"_parent\"><img src=\"https://colab.research.google.com/assets/colab-badge.svg\" alt=\"Open In Colab\"/></a>"
      ]
    },
    {
      "cell_type": "code",
      "source": [
        "import os\n",
        "from PIL import Image\n",
        "\n",
        "def find_unique_image_extensions(folder_path):\n",
        "    \"\"\"\n",
        "    Find unique image file extensions in the specified folder and its subfolders.\n",
        "\n",
        "    Args:\n",
        "        folder_path (str): The path to the main folder containing the images.\n",
        "\n",
        "    Returns:\n",
        "        list: A list of unique image file extensions found in the folder and its subfolders.\n",
        "    \"\"\"\n",
        "    # Create an empty list to store unique file extensions encountered.\n",
        "    unique_extensions = []\n",
        "\n",
        "    # Loop through the folders and subfolders in the specified 'folder_path'.\n",
        "    for folder_name in os.listdir(folder_path):\n",
        "        sub_folder_path = os.path.join(folder_path, folder_name)\n",
        "\n",
        "        # Loop through the files in the subfolder.\n",
        "        for file_name in os.listdir(sub_folder_path):\n",
        "            # Construct the full path of the current file.\n",
        "            file_path = os.path.join(sub_folder_path, file_name)\n",
        "\n",
        "            # Print the current file path to show progress (overwrites the output).\n",
        "            print(f\"Processing: {file_path}\", end=\"\\r\", flush=True)\n",
        "\n",
        "            # Open the image using PIL (Python Imaging Library).\n",
        "            with Image.open(file_path) as img:\n",
        "                # Convert the image to RGB mode in case it is in a different mode (e.g., grayscale).\n",
        "                rgb_img = img.convert('RGB')\n",
        "\n",
        "                # Extract the file extension and check if it's already in the 'unique_extensions' list.\n",
        "                file_extension = file_name.split('.')[-1].lower()\n",
        "                if file_extension not in unique_extensions:\n",
        "                    unique_extensions.append(file_extension)\n",
        "\n",
        "    print(\"\\nProcessing complete!\")\n",
        "    return unique_extensions\n",
        "\n",
        "if __name__ == \"__main__\":\n",
        "    folder_path = r'/content/drive/MyDrive/Datasets/33-mi/test'\n",
        "    unique_extensions = find_unique_image_extensions(folder_path)\n",
        "    print(\"Unique Image Extensions Found:\")\n",
        "    print(unique_extensions)\n"
      ],
      "metadata": {
        "id": "_pgMczdZiDfM"
      },
      "execution_count": null,
      "outputs": []
    }
  ]
}