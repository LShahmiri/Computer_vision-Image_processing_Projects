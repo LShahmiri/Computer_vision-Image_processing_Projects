{
  "nbformat": 4,
  "nbformat_minor": 0,
  "metadata": {
    "colab": {
      "provenance": [],
      "mount_file_id": "1ULyoi9jWrAUl_VGgjsrXo05nuECHM2r_",
      "authorship_tag": "ABX9TyNf54brO8DbdUjJu2qoSfp0",
      "include_colab_link": true
    },
    "kernelspec": {
      "name": "python3",
      "display_name": "Python 3"
    },
    "language_info": {
      "name": "python"
    }
  },
  "cells": [
    {
      "cell_type": "markdown",
      "metadata": {
        "id": "view-in-github",
        "colab_type": "text"
      },
      "source": [
        "<a href=\"https://colab.research.google.com/github/LShahmiri/Computer_vision-Image_processing_Projects/blob/master/Showing_top5_classes/Showing_top5_classes.ipynb\" target=\"_parent\"><img src=\"https://colab.research.google.com/assets/colab-badge.svg\" alt=\"Open In Colab\"/></a>"
      ]
    },
    {
      "cell_type": "code",
      "source": [
        "# Importing necessary libraries\n",
        "import tensorflow as tf\n",
        "from tensorflow.keras.applications.xception import preprocess_input\n",
        "from tensorflow.keras.preprocessing import image\n",
        "from tensorflow.keras.models import load_model\n",
        "import numpy as np\n",
        "\n",
        "# Loading the pre-trained Xception model\n",
        "model = tf.keras.models.load_model('.../xception_20221217-204221_best_model.hdf5')\n",
        "\n",
        "# Function to load and preprocess the input image\n",
        "def load_and_preprocess_image(image_path):\n",
        "    # Loading the image and resizing it to the required dimensions\n",
        "    img = image.load_img(image_path, target_size=(224, 224))\n",
        "\n",
        "    # Converting the image to a NumPy array\n",
        "    img = image.img_to_array(img)\n",
        "\n",
        "    # Adding an extra dimension as the model expects a batch of images\n",
        "    img = np.expand_dims(img, axis=0)\n",
        "\n",
        "    # Preprocessing the image using Xception's preprocess_input function\n",
        "    img = preprocess_input(img)\n",
        "    return img\n",
        "\n",
        "# Path to the input image\n",
        "image_path = '.../Artocarpus heterophyllus/88.JPG'  # Replace with the path to your image\n",
        "\n",
        "# Preprocess the input image\n",
        "input_image = load_and_preprocess_image(image_path)\n",
        "\n",
        "# Perform predictions on the preprocessed input image using the Xception model\n",
        "predictions = model.predict(input_image)\n",
        "\n",
        "# Obtain the indices of the top 5 classes with the highest probabilities\n",
        "top_5_indices = np.argsort(predictions[0])[::-1][:5]\n",
        "\n",
        "# Define a mapping of class indices to their respective labels\n",
        "class_labels = ['Abelmoschus sagittifolius', 'Abrus precatorius', ... , 'Zingiber officinale', 'Ziziphus mauritiana']\n",
        "\n",
        "# Display the top 5 predicted class labels along with their probabilities\n",
        "print(\"Top 5 Predictions:\")\n",
        "for index in top_5_indices:\n",
        "    class_label = class_labels[index]\n",
        "    probability = predictions[0][index] * 100\n",
        "    print(f\"{class_label}: {probability:.2f}% probability\")\n"
      ],
      "metadata": {
        "colab": {
          "base_uri": "https://localhost:8080/"
        },
        "id": "AZ9Lu5kNgo-E",
        "outputId": "425cec21-b05f-4ccd-f4d0-1a4124420e7b"
      },
      "execution_count": null,
      "outputs": [
        {
          "output_type": "stream",
          "name": "stdout",
          "text": [
            "1/1 [==============================] - 0s 187ms/step\n",
            "Hibiscus sabdariffa: 99.68%\n",
            "Leea rubra: 0.37%\n",
            "Jatropha gossypiifolia: 0.11%\n",
            "Mallotus barbatus: 0.01%\n",
            "Parameria Laevigata: 0.01%\n"
          ]
        }
      ]
    }
  ]
}