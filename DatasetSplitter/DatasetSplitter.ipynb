{
  "nbformat": 4,
  "nbformat_minor": 0,
  "metadata": {
    "colab": {
      "provenance": [],
      "authorship_tag": "ABX9TyP2sT63v2cZr7Ao/PnWdYuj",
      "include_colab_link": true
    },
    "kernelspec": {
      "name": "python3",
      "display_name": "Python 3"
    },
    "language_info": {
      "name": "python"
    }
  },
  "cells": [
    {
      "cell_type": "markdown",
      "metadata": {
        "id": "view-in-github",
        "colab_type": "text"
      },
      "source": [
        "<a href=\"https://colab.research.google.com/github/LShahmiri/Computer_vision-Image_processing_Projects/blob/master/DatasetSplitter/DatasetSplitter.ipynb\" target=\"_parent\"><img src=\"https://colab.research.google.com/assets/colab-badge.svg\" alt=\"Open In Colab\"/></a>"
      ]
    },
    {
      "cell_type": "code",
      "execution_count": null,
      "metadata": {
        "id": "78owRhV-PFYI"
      },
      "outputs": [],
      "source": [
        "# File: dataset_splitter.py\n",
        "# Split a dataset to 50% train 40% test and 10% valid\n",
        "import os\n",
        "import glob\n",
        "import shutil\n",
        "import random\n",
        "\n",
        "def split_x_dataset(rootdir):\n",
        "    \"\"\"\n",
        "    Splits a dataset of x images into training, testing, and validation subsets.\n",
        "\n",
        "    Parameters:\n",
        "        rootdir (str): The root directory of the x dataset.\n",
        "\n",
        "    Returns:\n",
        "        None\n",
        "    \"\"\"\n",
        "\n",
        "    # Iterate through each folder in the root directory\n",
        "    for folder in os.listdir(rootdir):\n",
        "        dirName = os.path.join(rootdir, folder)\n",
        "        # Create 'Test', 'Train', and 'Valid' subdirectories in the current folder\n",
        "        os.mkdir(os.path.join(dirName, 'Test'))\n",
        "        os.mkdir(os.path.join(dirName, 'Train'))\n",
        "        os.mkdir(os.path.join(dirName, 'Valid'))\n",
        "\n",
        "        # Count the number of files in the current folder\n",
        "        count = sum(1 for path in os.listdir(dirName) if os.path.isfile(os.path.join(dirName, path)))\n",
        "        # Get a list of all filenames in the current folder\n",
        "        list_train = [os.path.basename(file) for file in glob.glob(os.path.join(str(dirName), '*.*'))]\n",
        "\n",
        "        # Randomly sample 50% of the files for training\n",
        "        sampled_list_train = random.sample(list_train, int((50 * count) / 100))\n",
        "\n",
        "        # Move the sampled files to the 'Train' subdirectory\n",
        "        for file in sampled_list_train:\n",
        "            shutil.move(os.path.join(dirName, dirName, file), os.path.join(dirName, 'Train'))\n",
        "\n",
        "        # Duplicate list_train (possibly a typo?)\n",
        "        list_train.extend(list_train)\n",
        "\n",
        "        # Randomly sample another 50% (of the remaining files) for training\n",
        "        sampled_list_train = random.sample(list_train, int((50 * count) / 100))\n",
        "\n",
        "        # Update the count for the remaining files after training samples are removed\n",
        "        count = count - int((50 * count) / 100)\n",
        "\n",
        "        # Get a new list of all filenames after the training samples have been moved\n",
        "        list_Test = [os.path.basename(file) for file in glob.glob(os.path.join(str(dirName), '*.*'))]\n",
        "\n",
        "        # Randomly sample 80% of the remaining files for testing\n",
        "        sampled_list_train = random.sample(list_Test, int((80 * count) / 100))\n",
        "\n",
        "        # Move the sampled files to the 'Test' subdirectory\n",
        "        for file in sampled_list_train:\n",
        "            shutil.move(os.path.join(dirName, dirName, file), os.path.join(dirName, 'Test'))\n",
        "\n",
        "        # Get a new list of all filenames after the testing samples have been moved\n",
        "        list_valid = [os.path.basename(file) for file in glob.glob(os.path.join(str(dirName), '*.*'))]\n",
        "\n",
        "        # Move all the remaining files (after training and testing samples) to the 'Valid' subdirectory\n",
        "        for file in list_valid:\n",
        "            shutil.move(os.path.join(dirName, dirName, file), os.path.join(dirName, 'Valid'))\n",
        "\n",
        "# Example usage:\n",
        "# root_directory = 'c:/--'\n",
        "# split_x_dataset(root_directory)\n"
      ]
    }
  ]
}